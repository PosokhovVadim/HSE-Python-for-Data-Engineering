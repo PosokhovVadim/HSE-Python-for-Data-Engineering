{
 "cells": [
  {
   "cell_type": "markdown",
   "metadata": {},
   "source": [
    "task1"
   ]
  },
  {
   "cell_type": "code",
   "execution_count": null,
   "metadata": {},
   "outputs": [],
   "source": [
    "import re \n",
    "\n",
    "def isValidCarNumber(car_number):\n",
    "    if re.match(r'^[А-Я]{1}\\d{3}[А-Я]{2}\\d{2,3}$', car_number):\n",
    "        return f\"Номер {car_number[:-2]} валиден. Регион: {car_number[-2:]}\"\n",
    "    return f\"Номер не валиден\"\n",
    "\n",
    "print(isValidCarNumber('А222ВС96'))\n",
    "print(isValidCarNumber('АБ22ВВ193'))"
   ]
  },
  {
   "cell_type": "markdown",
   "metadata": {},
   "source": [
    "task2"
   ]
  },
  {
   "cell_type": "code",
   "execution_count": null,
   "metadata": {},
   "outputs": [],
   "source": [
    "def remove_repeated_words(s):\n",
    "    return re.sub(r'\\b(\\w+)(\\s+\\1)+\\b', r'\\1', s)\n",
    "\n",
    "some_string = 'Напишите функцию функцию, которая будет будет будет будет удалять все все все все последовательные повторы слов из из из из строки строки при помощи регулярных выражений'\n",
    "print(remove_repeated_words(some_string))"
   ]
  }
 ],
 "metadata": {
  "kernelspec": {
   "display_name": "Python 3",
   "language": "python",
   "name": "python3"
  },
  "language_info": {
   "codemirror_mode": {
    "name": "ipython",
    "version": 3
   },
   "file_extension": ".py",
   "mimetype": "text/x-python",
   "name": "python",
   "nbconvert_exporter": "python",
   "pygments_lexer": "ipython3",
   "version": "3.11.6"
  }
 },
 "nbformat": 4,
 "nbformat_minor": 2
}
