{
 "cells": [
  {
   "cell_type": "markdown",
   "metadata": {},
   "source": [
    "Task1"
   ]
  },
  {
   "cell_type": "code",
   "execution_count": 9,
   "metadata": {},
   "outputs": [
    {
     "name": "stdout",
     "output_type": "stream",
     "text": [
      "Deposited 500.0. Current balance: 10500.0\n",
      "Withdrew 300.0. Current balance: 10200.0\n",
      "Withdrew 1500.0. Current balance: 8700.0\n",
      "Transaction History:\n",
      "Account: Vadim| Transaction: Deposit: 500.0| current balance: 8700.0\n",
      "Account: Vadim| Transaction: Withdraw: 300.0| current balance: 8700.0\n",
      "Account: Vadim| Transaction: Withdraw: 1500.0| current balance: 8700.0\n",
      "None\n"
     ]
    }
   ],
   "source": [
    "from typing import List\n",
    "\n",
    "class Transaction:\n",
    "    def __init__(self, type, amount):\n",
    "        self.type = type \n",
    "        self.amount = amount \n",
    "\n",
    "    def __str__(self):\n",
    "        return f\"{self.type}: {self.amount}\"\n",
    "\n",
    "class Account:\n",
    "    def __init__(self, name:str, balance: float=0):\n",
    "        self.name = name\n",
    "        self.balance = balance\n",
    "        self.history: List[Transaction] = []\n",
    "\n",
    "    def deposit(self, amount):\n",
    "        if amount > 0:\n",
    "            self.balance += amount\n",
    "            self.history.append(Transaction(\"Deposit\", amount))\n",
    "            return f\"Deposited {amount}. Current balance: {self.balance}\"\n",
    "        return \"Deposit amount must be positive.\"\n",
    "    \n",
    "    def withdraw(self, amount):\n",
    "        if amount > 0 and self.balance >= amount:\n",
    "            self.balance -= amount\n",
    "            self.history.append(Transaction(\"Withdraw\", amount))\n",
    "            return f\"Withdrew {amount}. Current balance: {self.balance}\"\n",
    "        elif amount > 0 and self.balance < amount:\n",
    "            return \"Insufficient funds.\"\n",
    "        return \"Withdraw amount must be positive.\"\n",
    "\n",
    "    def show_history(self):\n",
    "        if not self.history:\n",
    "            return \"No transactions.\"\n",
    "        for transaction in self.history:\n",
    "            print(\"Account: %s | Transaction: %s | current balance: %s\" % (self.name, transaction, self.balance))\n",
    "\n",
    "acc = Account(\"Vadim\", 10000.00)\n",
    "print(acc.deposit(500.00))\n",
    "print(acc.withdraw(300.00))\n",
    "print(acc.withdraw(1500.00))\n",
    "print(\"Transaction History:\")\n",
    "print(acc.show_history())"
   ]
  }
 ],
 "metadata": {
  "kernelspec": {
   "display_name": "Python 3",
   "language": "python",
   "name": "python3"
  },
  "language_info": {
   "codemirror_mode": {
    "name": "ipython",
    "version": 3
   },
   "file_extension": ".py",
   "mimetype": "text/x-python",
   "name": "python",
   "nbconvert_exporter": "python",
   "pygments_lexer": "ipython3",
   "version": "3.11.6"
  }
 },
 "nbformat": 4,
 "nbformat_minor": 2
}
