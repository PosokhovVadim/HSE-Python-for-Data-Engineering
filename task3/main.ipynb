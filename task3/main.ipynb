{
 "cells": [
  {
   "cell_type": "markdown",
   "metadata": {},
   "source": [
    "Task1"
   ]
  },
  {
   "cell_type": "code",
   "execution_count": null,
   "metadata": {},
   "outputs": [],
   "source": [
    "from typing import List\n",
    "from datetime import datetime\n",
    "\n",
    "class Transaction:\n",
    "    def __init__(self, type, amount, balance):\n",
    "        self.type = type \n",
    "        self.amount = amount\n",
    "        self.current_balance = balance\n",
    "        self.date = datetime.now() \n",
    "\n",
    "    def __str__(self):\n",
    "        return f\"{self.type}: {self.amount}, {self.date}\"\n",
    "\n",
    "class Account:\n",
    "    def __init__(self, name:str, balance: float=0):\n",
    "        self.name = name\n",
    "        self.balance = balance\n",
    "        self.history: List[Transaction] = []\n",
    "\n",
    "    def deposit(self, amount):\n",
    "        if amount > 0:\n",
    "            self.balance += amount\n",
    "            self.history.append(Transaction(\"Deposit\", amount, self.balance))\n",
    "            return f\"Deposited {amount}. Current balance: {self.balance}\"\n",
    "        return \"Deposit amount must be positive.\"\n",
    "    \n",
    "    def withdraw(self, amount):\n",
    "        if amount > 0 and self.balance >= amount:\n",
    "            self.balance -= amount\n",
    "            self.history.append(Transaction(\"Withdraw\", amount, self.balance))\n",
    "            return f\"Withdrew {amount}. Current balance: {self.balance}\"\n",
    "        elif amount > 0 and self.balance < amount:\n",
    "            return \"Insufficient funds.\"\n",
    "        return \"Withdraw amount must be positive.\"\n",
    "\n",
    "    def show_history(self):\n",
    "        if not self.history:\n",
    "            return \"No transactions.\"\n",
    "        for transaction in self.history:\n",
    "            print(\"Account: %s | Transaction: %s | current balance: %s\" % (self.name, transaction, transaction.current_balance))\n",
    "\n",
    "acc = Account(\"Vadim\", 10000.00)\n",
    "print(acc.deposit(500.00))\n",
    "print(acc.withdraw(300.00))\n",
    "print(acc.withdraw(1500.00))\n",
    "print(\"\\n\\nTransaction History:\")\n",
    "print(acc.show_history())"
   ]
  }
 ],
 "metadata": {
  "kernelspec": {
   "display_name": "Python 3",
   "language": "python",
   "name": "python3"
  },
  "language_info": {
   "codemirror_mode": {
    "name": "ipython",
    "version": 3
   },
   "file_extension": ".py",
   "mimetype": "text/x-python",
   "name": "python",
   "nbconvert_exporter": "python",
   "pygments_lexer": "ipython3",
   "version": "3.11.6"
  }
 },
 "nbformat": 4,
 "nbformat_minor": 2
}
