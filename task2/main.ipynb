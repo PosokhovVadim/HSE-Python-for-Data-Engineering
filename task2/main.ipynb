{
 "cells": [
  {
   "cell_type": "markdown",
   "metadata": {},
   "source": [
    "Task1"
   ]
  },
  {
   "cell_type": "code",
   "execution_count": null,
   "metadata": {},
   "outputs": [],
   "source": [
    "from datetime import datetime,timedelta\n",
    "\n",
    "\n",
    "dates = [\n",
    "    (\"The Moscow Times\", \"Wednesday, October 2, 2002\", \"%A, %B %d, %Y\"),\n",
    "    (\"The Guardian\", \"Friday, 11.10.13\", \"%A, %d.%m.%y\"),\n",
    "    (\"Daily News\", \"Thursday, 18 August 1977\", \"%A, %d %B %Y\")\n",
    "]\n",
    "\n",
    "for newspaper, date_str, date_format in dates:\n",
    "    date_obj = datetime.strptime(date_str, date_format)\n",
    "    print(f\"{newspaper}: {date_obj}\")\n"
   ]
  },
  {
   "cell_type": "markdown",
   "metadata": {},
   "source": [
    "Task2"
   ]
  },
  {
   "cell_type": "code",
   "execution_count": null,
   "metadata": {},
   "outputs": [],
   "source": [
    "def date_range(start_date, end_date):\n",
    "    try: \n",
    "        start_date = datetime.strptime(start_date, \"%Y-%m-%d\")\n",
    "        end_date = datetime.strptime(end_date, \"%Y-%m-%d\")\n",
    "        if start_date > end_date:\n",
    "            return []\n",
    "        return [(start_date + timedelta(days=i)).strftime(\"%Y-%m-%d\") for i in range((end_date - start_date).days + 1)]\n",
    "    except ValueError:\n",
    "        return []\n",
    "\n",
    "print(date_range('2022-01-01', '2022-01-03'))\n",
    "print(date_range('2022-01-03', '2022-01-01'))\n",
    "print(date_range('2022-02-30', '2022-02-31'))\n"
   ]
  }
 ],
 "metadata": {
  "kernelspec": {
   "display_name": "Python 3",
   "language": "python",
   "name": "python3"
  },
  "language_info": {
   "codemirror_mode": {
    "name": "ipython",
    "version": 3
   },
   "file_extension": ".py",
   "mimetype": "text/x-python",
   "name": "python",
   "nbconvert_exporter": "python",
   "pygments_lexer": "ipython3",
   "version": "3.11.6"
  }
 },
 "nbformat": 4,
 "nbformat_minor": 2
}
