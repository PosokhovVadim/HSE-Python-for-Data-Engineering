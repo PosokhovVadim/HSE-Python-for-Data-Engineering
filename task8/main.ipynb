{
 "cells": [
  {
   "cell_type": "markdown",
   "metadata": {},
   "source": [
    "task1"
   ]
  },
  {
   "cell_type": "code",
   "execution_count": null,
   "metadata": {},
   "outputs": [],
   "source": [
    "import pandas as pd\n",
    "\n",
    "weather_data = pd.read_csv('hw/city_weather.csv')\n",
    "district_data = pd.read_csv('hw/district_to_city.csv')\n",
    "        \n",
    "data = pd.merge(weather_data, district_data, on=\"city\")\n",
    "data['avg_temp'] = (data['day_temperatre'] + data['night_temperature']) / 2\n",
    "data.drop(columns=['day_temperatre', 'night_temperature'], inplace=True)\n",
    "\n",
    "#1 avg temp by city \n",
    "print(\"\\nСредняя погода по городу\")\n",
    "city_avg_temp = data.groupby(\"city\")['avg_temp'].mean()\n",
    "city_avg_temp.sort_values()\n",
    "print(city_avg_temp)\n",
    "\n",
    "#2 avg temp by district\n",
    "print(\"\\nСредняя погода по области\")\n",
    "district_avg_temp = data.groupby(\"federal_district\")['avg_temp'].mean()\n",
    "print(district_avg_temp.sort_values())\n",
    "\n",
    "#3 diff between avg temp by city and avg temp by district\n",
    "print(\"\\nРазница между средней температурой города и области этого города\")\n",
    "\n",
    "for city in city_avg_temp.keys():\n",
    "    district = data[data['city'] == city]['federal_district'].values[0]\n",
    "    diff = city_avg_temp[city] - district_avg_temp[district]\n",
    "    print(f\"{city}, {district}. Разница: {diff}\")\n",
    "\n",
    "\n"
   ]
  }
 ],
 "metadata": {
  "kernelspec": {
   "display_name": "Python 3",
   "language": "python",
   "name": "python3"
  },
  "language_info": {
   "codemirror_mode": {
    "name": "ipython",
    "version": 3
   },
   "file_extension": ".py",
   "mimetype": "text/x-python",
   "name": "python",
   "nbconvert_exporter": "python",
   "pygments_lexer": "ipython3",
   "version": "3.11.6"
  }
 },
 "nbformat": 4,
 "nbformat_minor": 2
}
